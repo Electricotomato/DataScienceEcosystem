{
 "cells": [
  {
   "cell_type": "markdown",
   "id": "a506fdfc-bf32-46a6-a39f-30925f5b98f9",
   "metadata": {},
   "source": [
    "# Data Science Tools and Ecosystem"
   ]
  },
  {
   "cell_type": "markdown",
   "id": "74d7b236-a1c4-4170-bf00-f91746c66132",
   "metadata": {},
   "source": [
    "## In this notebook, Data Science Tools and Ecosystem are summarized."
   ]
  },
  {
   "cell_type": "markdown",
   "id": "23ad87d1-f561-4522-807b-d035e52bf9bc",
   "metadata": {},
   "source": [
    "### Objectives:\n",
    "- List popular languages for Data Science\n",
    "- List of used libraries by Data Scientist\n",
    "- List of Data Science tools\n",
    "- Arithmetic expression in Python"
   ]
  },
  {
   "cell_type": "markdown",
   "id": "33137a38-794e-4ede-a4e4-a01b7a506b4a",
   "metadata": {},
   "source": [
    "### Some of the popular languages that Data Scientist use are:\n",
    "1. Python\n",
    "2. R\n",
    "3. SQL\n",
    "4. Java\n",
    "5. Julia\n",
    "6. SAS\n",
    "7. MATLAB"
   ]
  },
  {
   "cell_type": "markdown",
   "id": "6f6115b7-cf41-47ec-9018-0b68650c7543",
   "metadata": {},
   "source": [
    "### Some of the commonly used libraries used by Data Scientists include:\n",
    "1. Numpy\n",
    "2. Pandas\n",
    "3. Scikit-learn\n",
    "4. TensorFlow\n",
    "5. Keras\n",
    "6. PyTorch\n",
    "7. Matplotlib\n",
    "8. Seaborn\n",
    "9. Scipy\n",
    "10. Statsmodels\n",
    "11. NLTK\n",
    "12. SpaCy\n",
    "13. Gensim\n",
    "14. Plotly"
   ]
  },
  {
   "cell_type": "markdown",
   "id": "c01f0ee1-6b54-40ff-b3c5-926f300daa69",
   "metadata": {},
   "source": [
    "### Data Science Tools"
   ]
  },
  {
   "cell_type": "markdown",
   "id": "2fc28896-9a8a-4859-a054-068193d38b08",
   "metadata": {},
   "source": [
    "<table>\n",
    "    <tr>\n",
    "        <th>Data Science Tools</th>\n",
    "    </tr>\n",
    "    <tr>\n",
    "        <td>Jupyter Notebook</td>\n",
    "    </tr>\n",
    "    <tr>\n",
    "        <td>RStudio</td>\n",
    "    </tr>\n",
    "    <tr>\n",
    "        <td>Spyder</td>\n",
    "    </tr>\n",
    "</table>"
   ]
  },
  {
   "cell_type": "markdown",
   "id": "bb8094b1-836d-4fa4-9afa-e3e8b5a712f0",
   "metadata": {},
   "source": [
    "### Below are a few examples of evaluating arithmetic expressions in Python"
   ]
  },
  {
   "cell_type": "code",
   "execution_count": 7,
   "id": "0157085a-1739-4e12-8845-34a0cbb4e892",
   "metadata": {},
   "outputs": [
    {
     "data": {
      "text/plain": [
       "17"
      ]
     },
     "execution_count": 7,
     "metadata": {},
     "output_type": "execute_result"
    }
   ],
   "source": [
    "#This a simple arithmetic expression to mutiply then add integers\n",
    "(3*4)+5"
   ]
  },
  {
   "cell_type": "code",
   "execution_count": 8,
   "id": "fa6538e7-598f-4ae7-9958-2898067abfad",
   "metadata": {},
   "outputs": [
    {
     "data": {
      "text/plain": [
       "3.3333333333333335"
      ]
     },
     "execution_count": 8,
     "metadata": {},
     "output_type": "execute_result"
    }
   ],
   "source": [
    "#This will convert 200 minutes to hours by diving by 60\n",
    "200/60"
   ]
  },
  {
   "cell_type": "markdown",
   "id": "a0d2b9fd-247f-45b4-a198-ea973fd80526",
   "metadata": {},
   "source": [
    "## Author \n",
    "Siti Hawa"
   ]
  }
 ],
 "metadata": {
  "kernelspec": {
   "display_name": "Python 3 (ipykernel)",
   "language": "python",
   "name": "python3"
  },
  "language_info": {
   "codemirror_mode": {
    "name": "ipython",
    "version": 3
   },
   "file_extension": ".py",
   "mimetype": "text/x-python",
   "name": "python",
   "nbconvert_exporter": "python",
   "pygments_lexer": "ipython3",
   "version": "3.11.9"
  }
 },
 "nbformat": 4,
 "nbformat_minor": 5
}
